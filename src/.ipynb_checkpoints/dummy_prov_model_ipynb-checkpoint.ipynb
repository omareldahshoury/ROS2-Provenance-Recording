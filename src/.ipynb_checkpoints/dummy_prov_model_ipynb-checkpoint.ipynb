{
 "cells": [
  {
   "cell_type": "markdown",
   "metadata": {},
   "source": [
    "# Sample ROS Prov\n",
    "###### This file was made manually just to create a sample model of the provenance info for ROS. The same concepts can then be used to model actual ROS programs"
   ]
  },
  {
   "cell_type": "code",
   "execution_count": 1,
   "metadata": {},
   "outputs": [],
   "source": [
    "# Importing the required libraries\n",
    "from prov.model import ProvDocument\n",
    "import prov\n",
    "import datetime\n",
    "\n",
    "# For visualizations\n",
    "from prov.dot import prov_to_dot\n",
    "from IPython.display import Image"
   ]
  },
  {
   "cell_type": "code",
   "execution_count": 2,
   "metadata": {},
   "outputs": [],
   "source": [
    "# First we create a Provenance data file\n",
    "ros = ProvDocument()"
   ]
  },
  {
   "cell_type": "code",
   "execution_count": 3,
   "metadata": {},
   "outputs": [
    {
     "name": "stdout",
     "output_type": "stream",
     "text": [
      "document\n",
      "  default <https://docs.ros.org/en/dashing/Installation.html>\n",
      "  prefix node <https://docs.ros.org/en/dashing/Tutorials/Understanding-ROS2-Nodes.html>\n",
      "  prefix topic <https://docs.ros.org/en/dashing/Tutorials/Topics/Understanding-ROS2-Topics.html>\n",
      "  prefix msg <http://wiki.ros.org/msg>\n",
      "  prefix activity <undefined>\n",
      "  prefix data_format <The format in which the data is stored/passed>\n",
      "  prefix module <python programs or groups>\n",
      "  prefix user <agent editing/contributing to the program>\n",
      "  prefix enduser <end user who interacts with the program>\n",
      "  \n",
      "endDocument\n"
     ]
    }
   ],
   "source": [
    "# We can write name spaces here\n",
    "ros.set_default_namespace('https://docs.ros.org/en/dashing/Installation.html')\n",
    "ros.add_namespace('node', 'https://docs.ros.org/en/dashing/Tutorials/Understanding-ROS2-Nodes.html') # represents ros nodes\n",
    "ros.add_namespace('topic', 'https://docs.ros.org/en/dashing/Tutorials/Topics/Understanding-ROS2-Topics.html') # represents ros topics\n",
    "ros.add_namespace('msg', 'http://wiki.ros.org/msg') # represents ros messages\n",
    "ros.add_namespace('activity', 'undefined') # represents the processes performed\n",
    "ros.add_namespace('data_format', 'The format in which the data is stored/passed') # represents the processes performed\n",
    "\n",
    "# Some more for future use\n",
    "ros.add_namespace('module', 'python programs or groups') # represents collection of ros enities, may be in the form of a program\n",
    "ros.add_namespace('user', 'agent editing/contributing to the program') # represents code contributors\n",
    "ros.add_namespace('enduser', 'end user who interacts with the program') # this represents the end user and his interaction with the code\n",
    "\n",
    "# Printing the prov so far\n",
    "print(ros.get_provn())"
   ]
  },
  {
   "cell_type": "markdown",
   "metadata": {},
   "source": [
    "## Creating the elements of Prov (Entities, Agents and Activities/Processes)"
   ]
  },
  {
   "cell_type": "markdown",
   "metadata": {},
   "source": [
    "### First we generate Nodes"
   ]
  },
  {
   "cell_type": "code",
   "execution_count": 4,
   "metadata": {},
   "outputs": [
    {
     "name": "stdout",
     "output_type": "stream",
     "text": [
      "document\n",
      "  default <https://docs.ros.org/en/dashing/Installation.html>\n",
      "  prefix node <https://docs.ros.org/en/dashing/Tutorials/Understanding-ROS2-Nodes.html>\n",
      "  prefix topic <https://docs.ros.org/en/dashing/Tutorials/Topics/Understanding-ROS2-Topics.html>\n",
      "  prefix msg <http://wiki.ros.org/msg>\n",
      "  prefix activity <undefined>\n",
      "  prefix data_format <The format in which the data is stored/passed>\n",
      "  prefix module <python programs or groups>\n",
      "  prefix user <agent editing/contributing to the program>\n",
      "  prefix enduser <end user who interacts with the program>\n",
      "  \n",
      "  agent(node:talker, [node:time_initialized=\"2021-08-06T19:39:49.385650\" %% xsd:dateTime, node:param_use_sim_time=\"False\"])\n",
      "  agent(node:listener, [node:time_initialized=\"2021-08-06T19:39:49.385786\" %% xsd:dateTime, node:param_use_sim_time=\"False\"])\n",
      "endDocument\n"
     ]
    }
   ],
   "source": [
    "# First we generate the nodes as agents\n",
    "ros.agent('node:talker',\\\n",
    "         {'node:time_initialized':datetime.datetime.now(),\\\n",
    "          'node:param_use_sim_time':'False'})\n",
    "ros.agent('node:listener',\\\n",
    "         {'node:time_initialized':datetime.datetime.now(),\\\n",
    "          'node:param_use_sim_time':'False'})\n",
    "# ros.agent('node:/_ros2cli_daemon_0')\n",
    "\n",
    "# Printing the prov so far\n",
    "print(ros.get_provn())"
   ]
  },
  {
   "cell_type": "code",
   "execution_count": 5,
   "metadata": {},
   "outputs": [
    {
     "name": "stdout",
     "output_type": "stream",
     "text": [
      "document\n",
      "  default <https://docs.ros.org/en/dashing/Installation.html>\n",
      "  prefix node <https://docs.ros.org/en/dashing/Tutorials/Understanding-ROS2-Nodes.html>\n",
      "  prefix topic <https://docs.ros.org/en/dashing/Tutorials/Topics/Understanding-ROS2-Topics.html>\n",
      "  prefix msg <http://wiki.ros.org/msg>\n",
      "  prefix activity <undefined>\n",
      "  prefix data_format <The format in which the data is stored/passed>\n",
      "  prefix module <python programs or groups>\n",
      "  prefix user <agent editing/contributing to the program>\n",
      "  prefix enduser <end user who interacts with the program>\n",
      "  \n",
      "  agent(node:talker, [node:time_initialized=\"2021-08-06T19:39:49.385650\" %% xsd:dateTime, node:param_use_sim_time=\"False\"])\n",
      "  agent(node:listener, [node:time_initialized=\"2021-08-06T19:39:49.385786\" %% xsd:dateTime, node:param_use_sim_time=\"False\"])\n",
      "  activity(activity:talker_Publish_to_chatter, 2021-08-06T19:39:49.396734, -)\n",
      "  activity(activity:talker_Publish_to_parameter_events, 2021-08-06T19:39:49.396858, -)\n",
      "  activity(activity:talker_Publish_to_rosout, 2021-08-06T19:39:49.396949, -)\n",
      "  activity(activity:listener_Subscribe_to_chatter, 2021-08-06T19:39:49.397032, -)\n",
      "  activity(activity:listener_Publish_to_parameter_events, 2021-08-06T19:39:49.397117, -)\n",
      "  activity(activity:listener_Publish_to_rosout, 2021-08-06T19:39:49.397200, -)\n",
      "  activity(activity:talker_set_param, -, -)\n",
      "  activity(activity:listener_set_param, -, -)\n",
      "endDocument\n"
     ]
    }
   ],
   "source": [
    "# We then create the processes/activities related to each node and topic\n",
    "# For instance, activity:node_Publish_to_topic or activity:node_Subscribe_to_topic\n",
    "\n",
    "# Actvities related to node:talker\n",
    "ros.activity('activity:talker_Publish_to_chatter', datetime.datetime.now())\n",
    "ros.activity('activity:talker_Publish_to_parameter_events', datetime.datetime.now())\n",
    "ros.activity('activity:talker_Publish_to_rosout', datetime.datetime.now())\n",
    "\n",
    "# Actvities related to node:listener\n",
    "ros.activity('activity:listener_Subscribe_to_chatter', datetime.datetime.now())\n",
    "ros.activity('activity:listener_Publish_to_parameter_events', datetime.datetime.now())\n",
    "ros.activity('activity:listener_Publish_to_rosout', datetime.datetime.now())\n",
    "\n",
    "# We also have to define the set ROS param activity for the nodes\n",
    "ros.activity('activity:talker_set_param')\n",
    "ros.activity('activity:listener_set_param')\n",
    "\n",
    "# Printing the prov so far\n",
    "print(ros.get_provn())"
   ]
  },
  {
   "cell_type": "code",
   "execution_count": 6,
   "metadata": {},
   "outputs": [
    {
     "name": "stdout",
     "output_type": "stream",
     "text": [
      "document\n",
      "  default <https://docs.ros.org/en/dashing/Installation.html>\n",
      "  prefix node <https://docs.ros.org/en/dashing/Tutorials/Understanding-ROS2-Nodes.html>\n",
      "  prefix topic <https://docs.ros.org/en/dashing/Tutorials/Topics/Understanding-ROS2-Topics.html>\n",
      "  prefix msg <http://wiki.ros.org/msg>\n",
      "  prefix activity <undefined>\n",
      "  prefix data_format <The format in which the data is stored/passed>\n",
      "  prefix module <python programs or groups>\n",
      "  prefix user <agent editing/contributing to the program>\n",
      "  prefix enduser <end user who interacts with the program>\n",
      "  \n",
      "  agent(node:talker, [node:time_initialized=\"2021-08-06T19:39:49.385650\" %% xsd:dateTime, node:param_use_sim_time=\"False\"])\n",
      "  agent(node:listener, [node:time_initialized=\"2021-08-06T19:39:49.385786\" %% xsd:dateTime, node:param_use_sim_time=\"False\"])\n",
      "  activity(activity:talker_Publish_to_chatter, 2021-08-06T19:39:49.396734, -)\n",
      "  activity(activity:talker_Publish_to_parameter_events, 2021-08-06T19:39:49.396858, -)\n",
      "  activity(activity:talker_Publish_to_rosout, 2021-08-06T19:39:49.396949, -)\n",
      "  activity(activity:listener_Subscribe_to_chatter, 2021-08-06T19:39:49.397032, -)\n",
      "  activity(activity:listener_Publish_to_parameter_events, 2021-08-06T19:39:49.397117, -)\n",
      "  activity(activity:listener_Publish_to_rosout, 2021-08-06T19:39:49.397200, -)\n",
      "  activity(activity:talker_set_param, -, -)\n",
      "  activity(activity:listener_set_param, -, -)\n",
      "  entity(topic:chatter, [prov:label=\"chatter\", prov:time_initialized=\"2021-08-06T19:39:49.409094\" %% xsd:dateTime])\n",
      "  entity(topic:parameter_events, [prov:label=\"parameter_events\", prov:time_initialized=\"2021-08-06T19:39:49.409241\" %% xsd:dateTime])\n",
      "  entity(topic:rosout, [prov:label=\"rosout\", prov:time_initialized=\"2021-08-06T19:39:49.409344\" %% xsd:dateTime])\n",
      "  entity(data_format:std_msgs/msg/String)\n",
      "  entity(data_format:rcl_interfaces/msg/ParameterEvent)\n",
      "  entity(data_format:rcl_interfaces/msg/Log)\n",
      "  entity(msg:message_1, [prov:topic=\"/chatter\", prov:type=\"std_msgs/msg/String\", prov:time_generated=\"2021-08-06T19:39:49.409725\" %% xsd:dateTime])\n",
      "endDocument\n"
     ]
    }
   ],
   "source": [
    "# We then create the entities that are being used\n",
    "\n",
    "# We begin with describing the topics being used\n",
    "# The essential parameters which we'd like to define are: name, type/msg_format and time of initialization\n",
    "ros.entity('topic:chatter',\\\n",
    "           {'prov:label':'chatter',\\\n",
    "            'prov:time_initialized':datetime.datetime.now()})\n",
    "ros.entity('topic:parameter_events',\\\n",
    "           {'prov:label':'parameter_events',\\\n",
    "            'prov:time_initialized':datetime.datetime.now()})\n",
    "ros.entity('topic:rosout',\\\n",
    "           {'prov:label':'rosout',\\\n",
    "            'prov:time_initialized':datetime.datetime.now()})\n",
    "\n",
    "\n",
    "# As the topics use a pre-defined data type, we could also make these data structures entities\n",
    "ros.entity('data_format:std_msgs/msg/String')\n",
    "ros.entity('data_format:rcl_interfaces/msg/ParameterEvent')\n",
    "ros.entity('data_format:rcl_interfaces/msg/Log')\n",
    "\n",
    "# Then we describe the message being exchanged, we should note that the graphical view can become a bit clunky\n",
    "# but we have to model messages as entities to ensure that we store the information, as for the point regarding\n",
    "# readability, we can improve this later by query languages such as cypher which allow us to narrow down our\n",
    "# vision to a specific portion of the visualized model by specifiying some constraints.\n",
    "\n",
    "ros.entity('msg:message_1',\\\n",
    "           {'prov:topic':'/chatter',\\\n",
    "            'prov:type':'std_msgs/msg/String',\\\n",
    "            'prov:time_generated':datetime.datetime.now()})\n",
    "\n",
    "# What if we declare an entity with the same name\n",
    "# ros.entity('topic:chatter', {'prov:time_initialized':'00000253500000.00'})\n",
    "\n",
    "# Printing the prov doc so far\n",
    "print(ros.get_provn())"
   ]
  },
  {
   "cell_type": "markdown",
   "metadata": {},
   "source": [
    "### Drawing the Relations between "
   ]
  },
  {
   "cell_type": "code",
   "execution_count": 7,
   "metadata": {},
   "outputs": [
    {
     "ename": "SyntaxError",
     "evalue": "invalid syntax (<ipython-input-7-53e87af4c85c>, line 30)",
     "output_type": "error",
     "traceback": [
      "\u001b[0;36m  File \u001b[0;32m\"<ipython-input-7-53e87af4c85c>\"\u001b[0;36m, line \u001b[0;32m30\u001b[0m\n\u001b[0;31m    ros.('activity:listener_Subscribe_to_chatter', 'msg:message_1')\u001b[0m\n\u001b[0m        ^\u001b[0m\n\u001b[0;31mSyntaxError\u001b[0m\u001b[0;31m:\u001b[0m invalid syntax\n"
     ]
    }
   ],
   "source": [
    "# Finally we draw the relations between the nodes, topics, messages and activities\n",
    "\n",
    "# First, we define the Generating Relations\n",
    "# Node talker generated topic chatter and the other 2 nodes were generated by the cli\n",
    "# ros.wasGeneratedBy('topic:chatter', 'node:talker')\n",
    "# ros.wasGeneratedBy('topic:parameter_events', 'node:/_ros2cli_daemon_0')\n",
    "# ros.wasGeneratedBy('topic:rosout', 'node:/_ros2cli_daemon_0')\n",
    "\n",
    "# Next we define the relations for each topic/msg\n",
    "\n",
    "# We begin with the topic Chatter\n",
    "# Node \"Talker\" publishes to topic \"Chatter\" through the activity \"talker_Publish_to_chatter\"\n",
    "ros.used('node:talker','activity:talker_Publish_to_chatter')\n",
    "ros.wasInfluencedBy('topic:chatter', 'activity:talker_Publish_to_chatter')\n",
    "# Node \"Listener\" listens to the chatter topic through the activity \"listener_Subscribe_to_chatter\"\n",
    "ros.used('node:listener', 'activity:listener_Subscribe_to_chatter')\n",
    "ros.wasInformedBy('activity:listener_Subscribe_to_chatter', 'topic:chatter')\n",
    "\n",
    "# Topics borrow from pre-defined message types\n",
    "ros.wasDerivedFrom('topic:chatter', 'data_format:std_msgs/msg/String')\n",
    "ros.wasDerivedFrom('topic:parameter_events', 'data_format:rcl_interfaces/msg/ParameterEvent')\n",
    "ros.wasDerivedFrom('topic:rosout', 'data_format:rcl_interfaces/msg/Log')\n",
    "\n",
    "# We then give the same relations for the messages\n",
    "# Node \"Talker\" publishes the message \"message_1\"\n",
    "ros.wasGeneratedBy('msg:message_1', 'activity:talker_Publish_to_chatter')\n",
    "# ros.used('node:talker','activity:talker_Publish_to_chatter') # This has been commented as it is already present\n",
    "# Node \"Listener\" listens to the message \"message_1\"\n",
    "# ros.used('activity:listener_Subscribe_to_chatter','node:listener') # Relation already present\n",
    "ros.used('activity:listener_Subscribe_to_chatter', 'msg:message_1')"
   ]
  },
  {
   "cell_type": "code",
   "execution_count": null,
   "metadata": {},
   "outputs": [],
   "source": [
    "# Defining the hidden relations\n",
    "\n",
    "# Publishing to parameter_events\n",
    "# talker\n",
    "ros.used('node:talker','activity:talker_Publish_to_parameter_events')\n",
    "ros.wasInfluencedBy('topic:parameter_events', 'activity:talker_Publish_to_parameter_events')\n",
    "# ros.used('node:/_ros2cli_daemon_0','activity:Publish_to_parameter_events')\n",
    "# listener\n",
    "ros.used('node:listener','activity:listener_Publish_to_parameter_events')\n",
    "ros.wasInformedBy('topic:parameter_events', 'activity:listener_Publish_to_parameter_events')\n",
    "\n",
    "# Publishing to rosout\n",
    "# talker\n",
    "ros.used('node:talker','activity:talker_Publish_to_rosout')\n",
    "ros.wasInfluencedBy('topic:rosout', 'activity:talker_Publish_to_rosout')\n",
    "# chatter\n",
    "ros.used('node:listener','activity:listener_Publish_to_rosout')\n",
    "ros.wasInformedBy('activity:listener_Publish_to_rosout', 'topic:rosout')"
   ]
  },
  {
   "cell_type": "code",
   "execution_count": null,
   "metadata": {},
   "outputs": [],
   "source": [
    "# We also have to define the set relations, which change the ROS param of the nodes\n",
    "# Talker\n",
    "ros.used('activity:talker_set_param', 'node:talker')\n",
    "ros.used('node:talker','activity:talker_set_param')\n",
    "# Listener\n",
    "ros.used('activity:listener_set_param', 'node:listener')\n",
    "ros.used('node:listener','activity:listener_set_param')"
   ]
  },
  {
   "cell_type": "markdown",
   "metadata": {},
   "source": [
    "### Visualizing the Prov Model"
   ]
  },
  {
   "cell_type": "code",
   "execution_count": null,
   "metadata": {},
   "outputs": [],
   "source": [
    "# visualize the graph\n",
    "dot = prov_to_dot(ros)\n",
    "dot.write_png('ros-prov.png')\n",
    "Image('ros-prov.png')"
   ]
  },
  {
   "cell_type": "markdown",
   "metadata": {},
   "source": [
    "## Seeing how it (the model) responds to different cases"
   ]
  },
  {
   "cell_type": "code",
   "execution_count": null,
   "metadata": {},
   "outputs": [],
   "source": [
    "### Inserting a topic with the same name\n",
    "# ros.agent('node:/_ros2cli_daemon_0')"
   ]
  },
  {
   "cell_type": "code",
   "execution_count": null,
   "metadata": {},
   "outputs": [],
   "source": [
    "# visualize the graph\n",
    "# dot = prov_to_dot(ros)\n",
    "# dot.write_png('ros-prov.png')\n",
    "# Image('ros-prov.png')"
   ]
  }
 ],
 "metadata": {
  "kernelspec": {
   "display_name": "Python 3",
   "language": "python",
   "name": "python3"
  },
  "language_info": {
   "codemirror_mode": {
    "name": "ipython",
    "version": 3
   },
   "file_extension": ".py",
   "mimetype": "text/x-python",
   "name": "python",
   "nbconvert_exporter": "python",
   "pygments_lexer": "ipython3",
   "version": "3.6.9"
  }
 },
 "nbformat": 4,
 "nbformat_minor": 4
}
